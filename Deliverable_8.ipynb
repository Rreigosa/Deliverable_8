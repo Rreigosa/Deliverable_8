{
  "cells": [
    {
      "cell_type": "code",
      "source": [
        "import numpy as np"
      ],
      "metadata": {
        "id": "iaZTME9qqIWF"
      },
      "execution_count": 11,
      "outputs": []
    },
    {
      "cell_type": "code",
      "source": [
        "def random_list(size):\n",
        "  list = []\n",
        "  for i in range(size):\n",
        "    list.append(np.random.randint(10,50))\n",
        "  return list"
      ],
      "metadata": {
        "id": "5d4md6atqfgc"
      },
      "execution_count": 12,
      "outputs": []
    },
    {
      "cell_type": "code",
      "source": [
        "def sum_random (list):\n",
        "  sum = 0\n",
        "  for i in range(len(list)):\n",
        "    sum = sum + list[i]\n",
        "  return sum"
      ],
      "metadata": {
        "id": "atHyHS_xthBa"
      },
      "execution_count": 18,
      "outputs": []
    },
    {
      "cell_type": "code",
      "source": [
        "while True:\n",
        "  n = input(\"Enter an integer between 5 to 15: \")\n",
        "  try:\n",
        "    n = int(n)\n",
        "    if 5 <= n <= 15:\n",
        "      break\n",
        "    else:\n",
        "      print(\"The integer must be between 5 and 15, Please try again\")\n",
        "  except ValueError:\n",
        "    print(\"Invalid input. Please try again. \")"
      ],
      "metadata": {
        "id": "ruaMAby8uD-w",
        "outputId": "0804863f-b250-495f-cb15-e1ef9432f623",
        "colab": {
          "base_uri": "https://localhost:8080/"
        }
      },
      "execution_count": 14,
      "outputs": [
        {
          "name": "stdout",
          "output_type": "stream",
          "text": [
            "Enter an integer between 5 to 15: 5\n"
          ]
        }
      ]
    },
    {
      "cell_type": "code",
      "source": [
        "MyList = random_list(n)"
      ],
      "metadata": {
        "id": "m_T5sQTex4a2"
      },
      "execution_count": 37,
      "outputs": []
    },
    {
      "cell_type": "code",
      "source": [
        "MySum = sum_random(MyList)"
      ],
      "metadata": {
        "id": "6aw4Pg2CyORD"
      },
      "execution_count": 38,
      "outputs": []
    },
    {
      "cell_type": "code",
      "source": [
        "print(\"The elements of the arrays are: {}\".format(MyList))\n",
        "print(\"The sum is: {}\".format(MySum))"
      ],
      "metadata": {
        "id": "1CC9s5xYzKc7",
        "outputId": "d2ef7f26-5a3e-4274-abbf-41cf67554b97",
        "colab": {
          "base_uri": "https://localhost:8080/"
        }
      },
      "execution_count": 39,
      "outputs": [
        {
          "output_type": "stream",
          "name": "stdout",
          "text": [
            "The elements of the arrays are: [21, 43, 12, 25, 15]\n",
            "The sum is: 116\n"
          ]
        }
      ]
    }
  ],
  "metadata": {
    "colab": {
      "name": "Welcome To Colaboratory",
      "provenance": []
    },
    "kernelspec": {
      "display_name": "Python 3",
      "name": "python3"
    }
  },
  "nbformat": 4,
  "nbformat_minor": 0
}